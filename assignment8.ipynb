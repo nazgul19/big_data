{
  "nbformat": 4,
  "nbformat_minor": 0,
  "metadata": {
    "colab": {
      "provenance": [],
      "authorship_tag": "ABX9TyOH5WZXqTJC/K9I73xFzNeH",
      "include_colab_link": true
    },
    "kernelspec": {
      "name": "python3",
      "display_name": "Python 3"
    },
    "language_info": {
      "name": "python"
    }
  },
  "cells": [
    {
      "cell_type": "markdown",
      "metadata": {
        "id": "view-in-github",
        "colab_type": "text"
      },
      "source": [
        "<a href=\"https://colab.research.google.com/github/nazgul19/big_data/blob/main/assignment8.ipynb\" target=\"_parent\"><img src=\"https://colab.research.google.com/assets/colab-badge.svg\" alt=\"Open In Colab\"/></a>"
      ]
    },
    {
      "cell_type": "code",
      "execution_count": null,
      "metadata": {
        "id": "cw_vGYrj3CEf"
      },
      "outputs": [],
      "source": [
        "y = [140,155,159,179,192,200,212,215]\n",
        "x1 = [60,62,67,70,71,72,75,78]\n",
        "x2 = [22,25,24,20,15,14,14,11]"
      ]
    },
    {
      "cell_type": "code",
      "source": [
        "x1sq = []\n",
        "x2sq = []\n",
        "x1y = []\n",
        "x2y = []\n",
        "x1x2 = []"
      ],
      "metadata": {
        "id": "pUpelzkZ4mJE"
      },
      "execution_count": null,
      "outputs": []
    },
    {
      "cell_type": "code",
      "source": [
        "for i in range(0,8):\n",
        "  x1sq.append(x1[i]*x1[i])\n",
        "  x2sq.append(x2[i]*x2[i])\n",
        "  x1y.append(x1[i]*y[i])\n",
        "  x2y.append(x2[i]*y[i])\n",
        "  x1x2.append(x1[i]*x2[i])"
      ],
      "metadata": {
        "id": "8hAcTH754ovx"
      },
      "execution_count": null,
      "outputs": []
    },
    {
      "cell_type": "code",
      "source": [
        "X1sq = sum(x1sq) -(sum(x1)^2)/8\n",
        "X2sq = sum(x2sq) -(sum(x2)^2)/8\n",
        "X1Y = sum(x1y) -(sum(x1)*sum(y))/8\n",
        "X2Y = sum(x2y) -(sum(x2)*sum(y))/8\n",
        "X1X2 = sum(x1x2) -(sum(x1)*sum(x2))/8\n"
      ],
      "metadata": {
        "id": "kp_IrSCM4qXs"
      },
      "execution_count": null,
      "outputs": []
    },
    {
      "cell_type": "code",
      "source": [
        "b1 = (X2sq*X1Y - X1X2*X2Y)/(X1sq*X2sq - X1X2*X1X2)\n",
        "b2 = (X1sq * X2Y - X1X2 * X1Y)/(X1sq*X2sq - X1X2*X1X2)\n",
        "b0 = (sum(y)/8)-b1*(sum(x1)/8)-b2 * (sum(x2)/8)\n"
      ],
      "metadata": {
        "id": "bShUfTYo4sEJ"
      },
      "execution_count": null,
      "outputs": []
    },
    {
      "cell_type": "code",
      "source": [
        "Y = []\n",
        "for i in range(0,8):\n",
        "  Y.append(b0+(b1*x1[i])+(b2*x2[i]))\n",
        "print(Y)"
      ],
      "metadata": {
        "colab": {
          "base_uri": "https://localhost:8080/"
        },
        "id": "z70LInyD4uBh",
        "outputId": "491f8204-f6f3-4d43-ba44-e5282efbe9b5"
      },
      "execution_count": null,
      "outputs": [
        {
          "output_type": "stream",
          "name": "stdout",
          "text": [
            "[179.9252087784158, 178.9679309553155, 179.4473364615435, 180.88401979087178, 182.60207504589354, 182.96831850610184, 183.0531900406166, 184.15192042124153]\n"
          ]
        }
      ]
    },
    {
      "cell_type": "code",
      "source": [
        "from sklearn.metrics import r2_score\n",
        "r2_score(y,Y)"
      ],
      "metadata": {
        "id": "DiIz34H64xw6",
        "outputId": "a4936563-eeb1-4f84-ee42-c8af66050d9d",
        "colab": {
          "base_uri": "https://localhost:8080/"
        }
      },
      "execution_count": null,
      "outputs": [
        {
          "output_type": "execute_result",
          "data": {
            "text/plain": [
              "0.12568024665609978"
            ]
          },
          "metadata": {},
          "execution_count": 7
        }
      ]
    }
  ]
}