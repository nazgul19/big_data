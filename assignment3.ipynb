{
  "nbformat": 4,
  "nbformat_minor": 0,
  "metadata": {
    "colab": {
      "provenance": [],
      "authorship_tag": "ABX9TyOYGYkf6zhMOgn3Y6JsYMAK",
      "include_colab_link": true
    },
    "kernelspec": {
      "name": "python3",
      "display_name": "Python 3"
    },
    "language_info": {
      "name": "python"
    }
  },
  "cells": [
    {
      "cell_type": "markdown",
      "metadata": {
        "id": "view-in-github",
        "colab_type": "text"
      },
      "source": [
        "<a href=\"https://colab.research.google.com/github/nazgul19/big_data/blob/main/assignment3.ipynb\" target=\"_parent\"><img src=\"https://colab.research.google.com/assets/colab-badge.svg\" alt=\"Open In Colab\"/></a>"
      ]
    },
    {
      "cell_type": "code",
      "execution_count": 1,
      "metadata": {
        "id": "h7IpbFlKJt1I"
      },
      "outputs": [],
      "source": [
        "import pandas as pd"
      ]
    },
    {
      "cell_type": "code",
      "source": [
        "data = {'Tid' : [1,2,3,4,5,6,7,8,9,10],\n",
        "        'Refund':['Yes','No','No','Yes','No','No','Yes','No','No','No'],\n",
        "        'Marital Status':['Single','Married','Single','Married','Divorced',\n",
        "                          'Married','Divorced','Single','Married','Single'],\n",
        "        'Taxable Income':['125K','100K','70K','120K','95K','60K','220K','85K',\n",
        "                          '75K','90K'],\n",
        "        'Cheat':['No','No', 'No','No','Yes','No','No','Yes','No','Yes']}\n",
        "df = pd.DataFrame(data)\n",
        "print(df)"
      ],
      "metadata": {
        "colab": {
          "base_uri": "https://localhost:8080/"
        },
        "id": "6OaKRSieJ0J0",
        "outputId": "279344b3-11b6-4b24-fef3-384eeb3b3693"
      },
      "execution_count": 2,
      "outputs": [
        {
          "output_type": "stream",
          "name": "stdout",
          "text": [
            "   Tid Refund Marital Status Taxable Income Cheat\n",
            "0    1    Yes         Single           125K    No\n",
            "1    2     No        Married           100K    No\n",
            "2    3     No         Single            70K    No\n",
            "3    4    Yes        Married           120K    No\n",
            "4    5     No       Divorced            95K   Yes\n",
            "5    6     No        Married            60K    No\n",
            "6    7    Yes       Divorced           220K    No\n",
            "7    8     No         Single            85K   Yes\n",
            "8    9     No        Married            75K    No\n",
            "9   10     No         Single            90K   Yes\n"
          ]
        }
      ]
    },
    {
      "cell_type": "code",
      "source": [
        "print(df[0:1])"
      ],
      "metadata": {
        "colab": {
          "base_uri": "https://localhost:8080/"
        },
        "id": "vSB_4ZhhL9Ct",
        "outputId": "969123a1-61aa-417c-c9f4-b23bebc23516"
      },
      "execution_count": 5,
      "outputs": [
        {
          "output_type": "stream",
          "name": "stdout",
          "text": [
            "   Tid Refund Marital Status Taxable Income Cheat\n",
            "0    1    Yes         Single           125K    No\n"
          ]
        }
      ]
    },
    {
      "cell_type": "code",
      "source": [
        "\"\"\"Locate row 0,4,7,8\"\"\"\n",
        "df.iloc[0]\n"
      ],
      "metadata": {
        "colab": {
          "base_uri": "https://localhost:8080/"
        },
        "id": "G9V48IeMMMWB",
        "outputId": "88764320-b5af-4ee2-e86d-36a838790c81"
      },
      "execution_count": 7,
      "outputs": [
        {
          "output_type": "execute_result",
          "data": {
            "text/plain": [
              "Tid                    1\n",
              "Refund               Yes\n",
              "Marital Status    Single\n",
              "Taxable Income      125K\n",
              "Cheat                 No\n",
              "Name: 0, dtype: object"
            ]
          },
          "metadata": {},
          "execution_count": 7
        }
      ]
    },
    {
      "cell_type": "code",
      "source": [
        "df.iloc[4]"
      ],
      "metadata": {
        "colab": {
          "base_uri": "https://localhost:8080/"
        },
        "id": "0XL__6mEMmrf",
        "outputId": "2da384fe-b53e-4336-9372-06a24b467b21"
      },
      "execution_count": 8,
      "outputs": [
        {
          "output_type": "execute_result",
          "data": {
            "text/plain": [
              "Tid                      5\n",
              "Refund                  No\n",
              "Marital Status    Divorced\n",
              "Taxable Income         95K\n",
              "Cheat                  Yes\n",
              "Name: 4, dtype: object"
            ]
          },
          "metadata": {},
          "execution_count": 8
        }
      ]
    },
    {
      "cell_type": "code",
      "source": [
        "df.iloc[7]"
      ],
      "metadata": {
        "colab": {
          "base_uri": "https://localhost:8080/"
        },
        "id": "vgHhWRm7Mt_2",
        "outputId": "c2e30356-8635-40d2-c79f-27ccb769b682"
      },
      "execution_count": 9,
      "outputs": [
        {
          "output_type": "execute_result",
          "data": {
            "text/plain": [
              "Tid                    8\n",
              "Refund                No\n",
              "Marital Status    Single\n",
              "Taxable Income       85K\n",
              "Cheat                Yes\n",
              "Name: 7, dtype: object"
            ]
          },
          "metadata": {},
          "execution_count": 9
        }
      ]
    },
    {
      "cell_type": "code",
      "source": [
        "df.iloc[8]"
      ],
      "metadata": {
        "colab": {
          "base_uri": "https://localhost:8080/"
        },
        "id": "Qm48R5s5MwG5",
        "outputId": "cad81091-07ce-43e2-e0d3-818c139b80fc"
      },
      "execution_count": 10,
      "outputs": [
        {
          "output_type": "execute_result",
          "data": {
            "text/plain": [
              "Tid                     9\n",
              "Refund                 No\n",
              "Marital Status    Married\n",
              "Taxable Income        75K\n",
              "Cheat                  No\n",
              "Name: 8, dtype: object"
            ]
          },
          "metadata": {},
          "execution_count": 10
        }
      ]
    },
    {
      "cell_type": "code",
      "source": [
        "url = \"https://raw.githubusercontent.com/AnjulaMehto/MCA/main/data.csv\"\n",
        "df = pd.read_csv(url)\n",
        "print(df.head(5))"
      ],
      "metadata": {
        "colab": {
          "base_uri": "https://localhost:8080/"
        },
        "id": "rfA4AKx5MzH1",
        "outputId": "920b79ce-8197-4016-8517-8d275cbea2d3"
      },
      "execution_count": 14,
      "outputs": [
        {
          "output_type": "stream",
          "name": "stdout",
          "text": [
            "   Duration  Pulse  Maxpulse  Calories\n",
            "0        60    110       130     409.1\n",
            "1        60    117       145     479.0\n",
            "2        60    103       135     340.0\n",
            "3        45    109       175     282.4\n",
            "4        45    117       148     406.0\n"
          ]
        }
      ]
    },
    {
      "cell_type": "code",
      "source": [],
      "metadata": {
        "id": "WWELlL5FNWKA"
      },
      "execution_count": null,
      "outputs": []
    }
  ]
}